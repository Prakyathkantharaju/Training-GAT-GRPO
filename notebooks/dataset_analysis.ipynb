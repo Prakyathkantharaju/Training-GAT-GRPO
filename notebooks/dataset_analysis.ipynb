{
 "cells": [
  {
   "cell_type": "code",
   "execution_count": 2,
   "metadata": {},
   "outputs": [
    {
     "name": "stderr",
     "output_type": "stream",
     "text": [
      "/Users/prakyath/developments/training/.venv/lib/python3.12/site-packages/tqdm/auto.py:21: TqdmWarning: IProgress not found. Please update jupyter and ipywidgets. See https://ipywidgets.readthedocs.io/en/stable/user_install.html\n",
      "  from .autonotebook import tqdm as notebook_tqdm\n"
     ]
    }
   ],
   "source": [
    "import datasets"
   ]
  },
  {
   "cell_type": "code",
   "execution_count": 3,
   "metadata": {},
   "outputs": [
    {
     "name": "stderr",
     "output_type": "stream",
     "text": [
      "Generating train split: 100%|██████████| 2641/2641 [00:00<00:00, 23546.48 examples/s]\n",
      "Generating test split: 100%|██████████| 228/228 [00:00<00:00, 30789.83 examples/s]\n"
     ]
    }
   ],
   "source": [
    "from datasets import load_dataset\n",
    "\n",
    "# Login using e.g. `huggingface-cli login` to access this dataset\n",
    "ds = load_dataset(\"newfacade/LeetCodeDataset\")"
   ]
  },
  {
   "cell_type": "code",
   "execution_count": 9,
   "metadata": {},
   "outputs": [
    {
     "name": "stdout",
     "output_type": "stream",
     "text": [
      "<class 'dict'>\n",
      "def check(candidate):\n",
      "    assert candidate(nums = [3, 3],target = 6) == [0, 1]\n",
      "    assert candidate(nums = [-1, -2, -3, -4],target = -8) == None\n",
      "    assert candidate(nums = [1000000000, 1000000000],target = 2000000000) == [0, 1]\n",
      "    assert candidate(nums = [1, 5, 7, 9],target = 10) == [0, 3]\n",
      "    assert candidate(nums = [1, 2, 3, 4, 5, 6, 7, 8, 9, 10],target = 3) == [0, 1]\n",
      "    assert candidate(nums = [0, 4, 3, 0],target = 0) == [0, 3]\n",
      "    assert candidate(nums = [1000000000, -1000000000, 500000000, -500000000],target = 0) == [0, 1]\n",
      "    assert candidate(nums = [1, 2, 3, 4, 5, 6, 7, 8, 9, 10],target = 17) == [7, 8]\n",
      "    assert candidate(nums = [1, 5, 7, 8],target = 15) == [2, 3]\n",
      "    assert candidate(nums = [1000000000, -1000000000],target = 0) == [0, 1]\n",
      "    assert candidate(nums = [2, 7, 11, 15],target = 9) == [0, 1]\n",
      "    assert candidate(nums = [1, 2, 3, 4, 5, 6, 7, 8, 9, 10],target = 19) == [8, 9]\n",
      "    assert candidate(nums = [1, 5, 7, 11],target = 16) == [1, 3]\n",
      "    assert candidate(nums = [5, 5, 5, 5, 5, 5, 5, 5, 5, 5],target = 10) == [0, 1]\n",
      "    assert candidate(nums = [3, 2, 4],target = 6) == [1, 2]\n",
      "    assert candidate(nums = [15, 11, 7, 2],target = 9) == [2, 3]\n",
      "    assert candidate(nums = [1000000000, -1000000000, 2000000000, -2000000000],target = 0) == [0, 1]\n",
      "    assert candidate(nums = [100, 200, 300, 400, 500, 600, 700, 800, 900, 1000, 1100, 1200, 1300, 1400, 1500, 1600, 1700, 1800, 1900, 2000, 2100, 2200, 2300, 2400, 2500, 2600, 2700, 2800, 2900, 3000],target = 4000) == [18, 20]\n",
      "    assert candidate(nums = [1, 3, 5, 7, 9, 11, 13, 15, 17, 19, 21, 23, 25, 27, 29, 31, 33, 35, 37, 39, 41, 43, 45, 47, 49, 51, 53, 55, 57, 59, 61, 63, 65, 67, 69, 71, 73, 75, 77, 79, 81, 83, 85, 87, 89, 91, 93, 95, 97, 99],target = 100) == [24, 25]\n",
      "    assert candidate(nums = [1, 2, 3, 4, 5, 6, 7, 8, 9, 10, 11, 12, 13, 14, 15, 16, 17, 18, 19, 20, 21, 22, 23, 24, 25, 26, 27, 28, 29, 30, 31, 32, 33, 34, 35, 36, 37, 38, 39, 40, 41, 42, 43, 44, 45, 46, 47, 48, 49, 50, 51, 52, 53, 54, 55, 56, 57, 58, 59, 60, 61, 62, 63, 64, 65, 66, 67, 68, 69, 70, 71, 72, 73, 74, 75, 76, 77, 78, 79, 80, 81, 82, 83, 84, 85, 86, 87, 88, 89, 90, 91, 92, 93, 94, 95, 96, 97, 98, 99, 100],target = 199) == [98, 99]\n",
      "    assert candidate(nums = [-5, -4, -3, -2, -1, 0, 1, 2, 3, 4, 5],target = 0) == [4, 6]\n",
      "    assert candidate(nums = [-10, -20, -30, -40, -50, -60, -70, -80, -90, -100],target = -150) == [6, 7]\n",
      "    assert candidate(nums = [-1, -2, -3, -4, -5, -6, -7, -8, -9, -10, -11, -12, -13, -14, -15, -16, -17, -18, -19, -20],target = -39) == [18, 19]\n",
      "    assert candidate(nums = [1, 3, 5, 7, 9, 11, 13, 15, 17, 19, 21, 23, 25, 27, 29, 31, 33, 35, 37, 39, 41, 43, 45, 47, 49, 51, 53, 55, 57, 59, 61, 63, 65, 67, 69, 71, 73, 75, 77, 79, 81, 83, 85, 87, 89, 91, 93, 95, 97, 99, 101, 103, 105, 107, 109, 111, 113, 115, 117, 119],target = 110) == [26, 28]\n",
      "    assert candidate(nums = [100, 200, 300, 400, 500, 600, 700, 800, 900, 1000, 1, 2, 3, 4, 5, 6, 7, 8, 9, 10],target = 1100) == [4, 5]\n",
      "    assert candidate(nums = [1, 3, 5, 7, 9, 11, 13, 15, 17, 19, 21, 23, 25, 27, 29, 31, 33, 35, 37, 39],target = 70) == [16, 18]\n",
      "    assert candidate(nums = [1, 1, 1, 1, 1, 1, 1, 1, 1, 1, 1, 1, 1, 1, 1, 1, 1, 1, 1, 2],target = 3) == [18, 19]\n",
      "    assert candidate(nums = [100, 200, 300, 400, 500, 600, 700, 800, 900, 1000, 1100, 1200, 1300, 1400, 1500, 1600, 1700, 1800, 1900, 2000, 2100, 2200, 2300, 2400, 2500],target = 3000) == [13, 15]\n",
      "    assert candidate(nums = [1000, 2000, 3000, 4000, 5000, 6000, 7000, 8000, 9000, 10000, 11000, 12000, 13000, 14000, 15000, 16000, 17000, 18000, 19000, 20000],target = 30000) == [13, 15]\n",
      "    assert candidate(nums = [1, 2, 3, 4, 5, 6, 7, 8, 9, 10, 11, 12, 13, 14, 15, 16, 17, 18, 19, 20],target = 39) == [18, 19]\n",
      "    assert candidate(nums = [0, 1, 2, 3, 4, 5, 6, 7, 8, 9, 10, 11, 12, 13, 14, 15, 16, 17, 18, 19, 20, 21, 22, 23, 24, 25, 26, 27, 28, 29, 30, 31, 32, 33, 34, 35, 36, 37, 38, 39, 40, 41, 42, 43, 44, 45, 46, 47, 48, 49, 50, 51, 52, 53, 54, 55, 56, 57, 58, 59, 60, 61, 62, 63, 64, 65, 66, 67, 68, 69, 70, 71, 72, 73, 74, 75, 76, 77, 78, 79, 80, 81, 82, 83, 84, 85, 86, 87, 88, 89, 90, 91, 92, 93, 94, 95, 96, 97, 98, 99],target = 99) == [49, 50]\n",
      "    assert candidate(nums = [10, 20, 30, 40, 50, 60, 70, 80, 90, 100, 110, 120, 130, 140, 150, 160, 170, 180, 190, 200, 210, 220, 230, 240, 250, 260, 270, 280, 290, 300, 310, 320, 330, 340, 350, 360, 370, 380, 390, 400, 410, 420, 430, 440, 450, 460, 470, 480, 490, 500],target = 900) == [43, 45]\n",
      "    assert candidate(nums = [-1000000000, -2000000000, -3000000000, -4000000000, -5000000000, -6000000000, -7000000000, -8000000000, -9000000000, -10000000000],target = -15000000000) == [6, 7]\n",
      "    assert candidate(nums = [23, 8, 15, 37, 48, 5, 21, 7, 40, 6],target = 33) == None\n",
      "    assert candidate(nums = [10, 20, 30, 40, 50, 60, 70, 80, 90, 100, 110, 120, 130, 140, 150, 160, 170, 180, 190, 200],target = 390) == [18, 19]\n",
      "    assert candidate(nums = [100, 200, 300, 400, 500, 600, 700, 800, 900, 1000],target = 1500) == [6, 7]\n",
      "    assert candidate(nums = [1, 2, 3, 4, 5, 6, 7, 8, 9, 10, 11, 12, 13, 14, 15, 16, 17, 18, 19, 20],target = 21) == [9, 10]\n",
      "    assert candidate(nums = [2, 5, 1, 9, 3, 8, 7, 6, 4, 0],target = 17) == [3, 5]\n",
      "    assert candidate(nums = [1000000000, -1000000000, 500000000, 500000000],target = 0) == [0, 1]\n",
      "    assert candidate(nums = [1, 2, 3, 4, 5, 6, 7, 8, 9, 10, 11, 12, 13, 14, 15],target = 29) == [13, 14]\n",
      "    assert candidate(nums = [1, 2, 3, 4, 5, 6, 7, 8, 9, 10, 11, 12, 13, 14, 15, 16, 17, 18, 19, 20],target = 38) == [17, 19]\n",
      "    assert candidate(nums = [1, 3, 5, 7, 9, 11, 13, 15, 17, 19, 21, 23, 25, 27, 29, 31, 33, 35, 37, 39],target = 78) == None\n",
      "    assert candidate(nums = [-1000000000, 1000000000, 500000000, -500000000],target = 0) == [0, 1]\n",
      "    assert candidate(nums = [1000000000, 999999999, 1, 2, 3, 4, 5, 6, 7, 8, 9, 10],target = 1999999999) == [0, 1]\n",
      "    assert candidate(nums = [10, 20, 30, 40, 50, 60, 70, 80, 90, 100, 110, 120, 130, 140, 150, 160, 170, 180, 190, 200],target = 300) == [13, 15]\n",
      "    assert candidate(nums = [1, 3, 5, 7, 9, 11, 13, 15, 17, 19, 21, 23, 25, 27, 29, 31, 33, 35, 37, 39, 41, 43, 45, 47, 49, 51, 53, 55, 57, 59],target = 100) == [24, 25]\n",
      "    assert candidate(nums = [5, 12, 7, 3, 9, 14, 10, 23, 1, 11],target = 22) == [1, 6]\n",
      "    assert candidate(nums = [-3, 4, 3, 90, -11, 23, -5, 67, 100, -45, 89],target = 53) == None\n",
      "    assert candidate(nums = [-1, -2, -3, -4, -5, -6, -7, -8, -9, -10, -11, -12, -13, -14, -15, -16, -17, -18, -19, -20, -21, -22, -23, -24, -25, -26, -27, -28, -29, -30, -31, -32, -33, -34, -35, -36, -37, -38, -39, -40, -41, -42, -43, -44, -45, -46, -47, -48, -49, -50, -51, -52, -53, -54, -55, -56, -57, -58, -59, -60, -61, -62, -63, -64, -65, -66, -67, -68, -69, -70, -71, -72, -73, -74, -75, -76, -77, -78, -79, -80, -81, -82, -83, -84, -85, -86, -87, -88, -89, -90, -91, -92, -93, -94, -95, -96, -97, -98, -99, -100],target = -199) == [98, 99]\n",
      "    assert candidate(nums = [0, 1, 0, 1, 0, 1, 0, 1, 0, 1, 0, 1, 0, 1, 0, 1, 0, 1, 0, 1, 0, 1, 0, 1, 0, 1, 0, 1, 0, 1],target = 1) == [0, 1]\n",
      "    assert candidate(nums = [1, 1, 1, 1, 1, 1, 1, 1, 1, 1, 1, 1, 1, 1, 1, 1, 1, 1, 1, 1, 1, 1, 1, 1, 2],target = 3) == [23, 24]\n",
      "    assert candidate(nums = [10, 20, 30, 40, 50, 60, 70, 80, 90, 100, 110, 120, 130, 140, 150, 160, 170, 180, 190, 200, 210, 220, 230, 240, 250, 260, 270, 280, 290, 300, 310, 320, 330, 340, 350, 360, 370, 380, 390, 400, 410, 420, 430, 440, 450, 460, 470, 480, 490, 500, 510, 520, 530, 540, 550, 560, 570, 580, 590, 600, 610, 620, 630, 640, 650, 660, 670, 680, 690, 700, 710, 720, 730, 740, 750, 760, 770, 780, 790, 800, 810, 820, 830, 840, 850, 860, 870, 880, 890, 900, 910, 920, 930, 940, 950, 960, 970, 980, 990, 1000],target = 1990) == [98, 99]\n",
      "    assert candidate(nums = [0, 1, 2, 3, 4, 5, 6, 7, 8, 9, 10, 11, 12, 13, 14, 15, 16, 17, 18, 19, 20, 21, 22, 23, 24, 25, 26, 27, 28, 29, 30],target = 59) == [29, 30]\n",
      "    assert candidate(nums = [123456789, 987654321, 456789123, 321987654, 654321987, 789123456],target = 1111111110) == [0, 1]\n",
      "    assert candidate(nums = [0, 0, 0, 0, 0, 0, 0, 0, 0, 0],target = 0) == [0, 1]\n",
      "    assert candidate(nums = [-1, -2, -3, -4, -5, -6, -7, -8, -9, -10],target = -11) == [4, 5]\n",
      "    assert candidate(nums = [999999999, 999999998, 999999997, 999999996, 999999995, 999999994, 999999993, 999999992],target = 1999999997) == [0, 1]\n",
      "    assert candidate(nums = [-1, -2, -3, -4, -5, -6, -7, -8, -9, -10],target = -15) == [6, 7]\n",
      "    assert candidate(nums = [1000000000, -1000000000, 500000000, 500000000, -500000000, -500000000, 1, 2, 3, 4],target = 0) == [0, 1]\n",
      "    assert candidate(nums = [1000000000, 1000000000, 1000000000, 1000000000, 1000000000, 1000000000, 1000000000, 1000000000, 1000000000, 1000000000],target = 2000000000) == [0, 1]\n",
      "    assert candidate(nums = [1, 2, 3, 4, 5, 6, 7, 8, 9, 10, 11, 12, 13, 14, 15, 16, 17, 18, 19, 20, 21, 22, 23, 24, 25, 26, 27, 28, 29, 30, 31, 32, 33, 34, 35, 36, 37, 38, 39, 40, 41, 42, 43, 44, 45, 46, 47, 48, 49, 50, 51, 52, 53, 54, 55, 56, 57, 58, 59, 60, 61, 62, 63, 64, 65, 66, 67, 68, 69, 70, 71, 72, 73, 74, 75, 76, 77, 78, 79, 80, 81, 82, 83, 84, 85, 86, 87, 88, 89, 90, 91, 92, 93, 94, 95, 96, 97, 98, 99, 100, 101, 102, 103, 104, 105, 106, 107, 108, 109, 110, 111, 112, 113, 114, 115, 116, 117, 118, 119, 120, 121, 122, 123, 124, 125, 126, 127, 128, 129, 130, 131, 132, 133, 134, 135, 136, 137, 138, 139, 140, 141, 142, 143, 144, 145, 146, 147, 148, 149, 150],target = 299) == [148, 149]\n",
      "    assert candidate(nums = [1, 2, 3, 4, 5, 6, 7, 8, 9, 10, 11, 12, 13, 14, 15, 16, 17, 18, 19, 20, 21, 22, 23, 24, 25, 26, 27, 28, 29, 30],target = 59) == [28, 29]\n",
      "    assert candidate(nums = [-1, -2, -3, -4, -5, -6, -7, -8, -9, -10, -11, -12, -13, -14, -15, -16, -17, -18, -19, -20],target = -31) == [14, 15]\n",
      "    assert candidate(nums = [1000, 2000, 3000, 4000, 5000, 6000, 7000, 8000, 9000, 10000, 11000, 12000, 13000, 14000, 15000, 16000, 17000, 18000, 19000, 20000, 21000, 22000, 23000, 24000, 25000, 26000, 27000, 28000, 29000, 30000],target = 60000) == None\n",
      "    assert candidate(nums = [1, 2, 3, 4, 5, 6, 7, 8, 9, 10, 11, 12, 13, 14, 15, 16, 17, 18, 19, 20],target = 39) == [18, 19]\n",
      "    assert candidate(nums = [1000000000, -500000000, 2000000000, -1000000000, 0, 500000000],target = 1000000000) == [2, 3]\n",
      "    assert candidate(nums = [1, 2, 3, 4, 5, 6, 7, 8, 9, 10, 11, 12, 13, 14, 15, 16, 17, 18, 19, 20, 21, 22, 23, 24, 25, 26, 27, 28, 29, 30, 31, 32, 33, 34, 35, 36, 37, 38, 39, 40, 41, 42, 43, 44, 45, 46, 47, 48, 49, 50],target = 99) == [48, 49]\n",
      "    assert candidate(nums = [1, 2, 3, 4, 5, 6, 7, 8, 9, 10, 11, 12, 13, 14, 15, 16, 17, 18, 19, 20, 21, 22, 23, 24, 25],target = 49) == [23, 24]\n",
      "    assert candidate(nums = [999999999, 999999998, 999999997, 999999996, 999999995, 999999994, 999999993, 999999992, 999999991, 999999990],target = 1999999989) == [4, 5]\n",
      "    assert candidate(nums = [1, 2, 4, 8, 16, 32, 64, 128, 256, 512],target = 513) == [0, 9]\n",
      "    assert candidate(nums = [-1, -2, -3, -4, -5, -6, -7, -8, -9, -10],target = -18) == [7, 9]\n",
      "    assert candidate(nums = [100, 200, 300, 400, 500, 600, 700, 800, 900, 1000, 1100, 1200, 1300, 1400, 1500],target = 1300) == [5, 6]\n",
      "    assert candidate(nums = [-1, -2, -3, -4, -5, -6, -7, -8, -9, -10],target = -17) == [7, 8]\n",
      "    assert candidate(nums = [100, 200, 300, 400, 500, 600, 700, 800, 900, 1000],target = 1900) == [8, 9]\n",
      "    assert candidate(nums = [0, 0, 0, 0, 0, 0, 0, 0, 0, 0],target = 0) == [0, 1]\n",
      "    assert candidate(nums = [1, 3, 5, 7, 9, 11, 13, 15, 17, 19, 21, 23, 25, 27, 29, 31, 33, 35, 37, 39],target = 79) == None\n",
      "    assert candidate(nums = [1000000000, 2000000000, 3000000000, 4000000000, 5000000000, 6000000000, 7000000000, 8000000000, 9000000000, 10000000000],target = 30000000000) == None\n",
      "    assert candidate(nums = [-3, -1, 0, 2, 5, 7, 8, 10],target = 4) == [1, 4]\n",
      "    assert candidate(nums = [1, 2, 3, 4, 5, 6, 7, 8, 9, 10, 11, 12, 13, 14, 15, 16, 17, 18, 19, 20, 21, 22, 23, 24, 25, 26, 27, 28, 29, 30, 31, 32, 33, 34, 35, 36, 37, 38, 39, 40, 41, 42, 43, 44, 45, 46, 47, 48, 49, 50],target = 100) == None\n",
      "    assert candidate(nums = [29, 37, 10, 55, 44, 3, 67, 90, 11, 38, 2, 9, 100, 34, 65, 23, 89, 12, 33, 22],target = 62) == [0, 18]\n",
      "\n"
     ]
    }
   ],
   "source": [
    "first_row = ds['train'][0]\n",
    "print(type(first_row))\n",
    "print(first_row['test'])"
   ]
  },
  {
   "cell_type": "code",
   "execution_count": null,
   "metadata": {},
   "outputs": [],
   "source": [
    "exec(first_row['test'])"
   ]
  },
  {
   "cell_type": "code",
   "execution_count": 12,
   "metadata": {},
   "outputs": [],
   "source": [
    "def verify_solution(candidate_func, test_string: str) -> bool:\n",
    "    \"\"\"\n",
    "    Executes a test string and runs it against a candidate function.\n",
    "    \n",
    "    Args:\n",
    "        candidate_func: The function to test (your solution)\n",
    "        test_string: String containing Python code that defines a 'check' function\n",
    "        \n",
    "    Returns:\n",
    "        bool: True if all tests pass, False if any test fails\n",
    "    \"\"\"\n",
    "    try:\n",
    "        # Create a local namespace for executing the test\n",
    "        local_namespace = {}\n",
    "        \n",
    "        # Execute the test string to define the 'check' function\n",
    "        exec(test_string, {}, local_namespace)\n",
    "        \n",
    "        # Get the check function from the local namespace\n",
    "        check_function = local_namespace.get('check')\n",
    "        \n",
    "        if check_function is None:\n",
    "            print(\"Error: No 'check' function found in test string\")\n",
    "            return False\n",
    "        \n",
    "        # Run the check function with our candidate\n",
    "        check_function(candidate_func)\n",
    "        \n",
    "        print(\"All tests passed!\")\n",
    "        return True\n",
    "        \n",
    "    except AssertionError as e:\n",
    "        print(f\"Test failed: {e}\")\n",
    "        return False\n",
    "    except Exception as e:\n",
    "        print(f\"Error executing test: {e}\")\n",
    "        return False"
   ]
  },
  {
   "cell_type": "code",
   "execution_count": 15,
   "metadata": {},
   "outputs": [
    {
     "name": "stdout",
     "output_type": "stream",
     "text": [
      "All tests passed!\n"
     ]
    },
    {
     "data": {
      "text/plain": [
       "True"
      ]
     },
     "execution_count": 15,
     "metadata": {},
     "output_type": "execute_result"
    }
   ],
   "source": [
    "# Example solution for the Two Sum problem (based on your dataset)\n",
    "def two_sum(nums, target):\n",
    "    \"\"\"\n",
    "    Find two numbers in the array that add up to target.\n",
    "    Returns the indices of the two numbers, or None if no solution exists.\n",
    "    \"\"\"\n",
    "    num_to_index = {}\n",
    "    \n",
    "    for i, num in enumerate(nums):\n",
    "        complement = target - num\n",
    "        if complement in num_to_index:\n",
    "            return [num_to_index[complement], i]\n",
    "        num_to_index[num] = i\n",
    "    \n",
    "    return None\n",
    "\n",
    "\n",
    "verify_solution(two_sum, first_row['test'])"
   ]
  },
  {
   "cell_type": "code",
   "execution_count": null,
   "metadata": {},
   "outputs": [],
   "source": [
    "# Agent 1.\n",
    "# Planner which will generate a plan for the problem.\n",
    "\n",
    "\n",
    "\n",
    "# Paths (Agents 2, 3, 4)\n",
    "# each path will plan, and write codes.\n",
    "\n",
    "\n",
    "# (Agents 6, 7)\n",
    "# arbitrator combines / selects the paths and write the final code.\n",
    "\n"
   ]
  }
 ],
 "metadata": {
  "kernelspec": {
   "display_name": ".venv",
   "language": "python",
   "name": "python3"
  },
  "language_info": {
   "codemirror_mode": {
    "name": "ipython",
    "version": 3
   },
   "file_extension": ".py",
   "mimetype": "text/x-python",
   "name": "python",
   "nbconvert_exporter": "python",
   "pygments_lexer": "ipython3",
   "version": "3.12.9"
  }
 },
 "nbformat": 4,
 "nbformat_minor": 2
}
